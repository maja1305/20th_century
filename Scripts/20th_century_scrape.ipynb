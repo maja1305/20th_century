{
 "cells": [
  {
   "cell_type": "code",
   "execution_count": 4,
   "id": "63e35cc3",
   "metadata": {},
   "outputs": [
    {
     "name": "stdout",
     "output_type": "stream",
     "text": [
      "✅ ChromeDriver is working!\n"
     ]
    }
   ],
   "source": [
    "from selenium import webdriver\n",
    "import time\n",
    "\n",
    "\n",
    "driver = webdriver.Chrome(executable_path=r\"D:\\Tools\\Chrome_Driver\\chromedriver\\chromedriver.exe\")\n",
    "\n",
    "driver.get(\"https://www.google.com\")\n",
    "\n",
    "time.sleep(2)\n",
    "\n",
    "print(\"✅ ChromeDriver is working!\")\n",
    "\n",
    "driver.quit()"
   ]
  },
  {
   "cell_type": "code",
   "execution_count": 5,
   "id": "6215d05e",
   "metadata": {},
   "outputs": [],
   "source": [
    "from selenium import webdriver\n",
    "import time\n",
    "\n",
    "\n",
    "driver = webdriver.Chrome(executable_path=r\"D:\\Tools\\Chrome_Driver\\chromedriver\\chromedriver.exe\")\n",
    "\n",
    "\n",
    "url = \"https://en.wikipedia.org/wiki/Key_events_of_the_20th_century\"\n",
    "driver.get(url)\n",
    "\n",
    "\n",
    "time.sleep(5)\n",
    "\n",
    "\n",
    "html_content = driver.page_source\n",
    "\n",
    "\n",
    "driver.quit()\n",
    "\n",
    "\n",
    "with open(\"20th_century_page.txt\", \"w\", encoding=\"utf-8\") as f:\n",
    "    f.write(html_content)\n"
   ]
  },
  {
   "cell_type": "code",
   "execution_count": null,
   "id": "ff90d7e2",
   "metadata": {},
   "outputs": [],
   "source": []
  }
 ],
 "metadata": {
  "kernelspec": {
   "display_name": "venv_1.4",
   "language": "python",
   "name": "python3"
  },
  "language_info": {
   "codemirror_mode": {
    "name": "ipython",
    "version": 3
   },
   "file_extension": ".py",
   "mimetype": "text/x-python",
   "name": "python",
   "nbconvert_exporter": "python",
   "pygments_lexer": "ipython3",
   "version": "3.11.14"
  }
 },
 "nbformat": 4,
 "nbformat_minor": 5
}
